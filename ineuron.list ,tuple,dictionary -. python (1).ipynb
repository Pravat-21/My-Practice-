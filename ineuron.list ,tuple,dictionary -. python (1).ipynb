{
 "cells": [
  {
   "cell_type": "markdown",
   "id": "7ecedc18",
   "metadata": {},
   "source": [
    "List Practice :"
   ]
  },
  {
   "cell_type": "code",
   "execution_count": 1,
   "id": "c1edcb82",
   "metadata": {},
   "outputs": [],
   "source": [
    "l=[12,22,3,'pravat',3,'ram']"
   ]
  },
  {
   "cell_type": "code",
   "execution_count": 2,
   "id": "6c87465e",
   "metadata": {},
   "outputs": [
    {
     "data": {
      "text/plain": [
       "list"
      ]
     },
     "execution_count": 2,
     "metadata": {},
     "output_type": "execute_result"
    }
   ],
   "source": [
    "type(l)"
   ]
  },
  {
   "cell_type": "code",
   "execution_count": 3,
   "id": "866ab1e5",
   "metadata": {},
   "outputs": [
    {
     "data": {
      "text/plain": [
       "6"
      ]
     },
     "execution_count": 3,
     "metadata": {},
     "output_type": "execute_result"
    }
   ],
   "source": [
    "len(l)"
   ]
  },
  {
   "cell_type": "code",
   "execution_count": 4,
   "id": "83d26aab",
   "metadata": {},
   "outputs": [
    {
     "data": {
      "text/plain": [
       "['pravat', 3, 'ram']"
      ]
     },
     "execution_count": 4,
     "metadata": {},
     "output_type": "execute_result"
    }
   ],
   "source": [
    "l[3:]"
   ]
  },
  {
   "cell_type": "code",
   "execution_count": 6,
   "id": "d0a50fa1",
   "metadata": {},
   "outputs": [
    {
     "data": {
      "text/plain": [
       "[12, 22, 3]"
      ]
     },
     "execution_count": 6,
     "metadata": {},
     "output_type": "execute_result"
    }
   ],
   "source": [
    "l[0:3]"
   ]
  },
  {
   "cell_type": "code",
   "execution_count": 7,
   "id": "d626f40b",
   "metadata": {},
   "outputs": [
    {
     "data": {
      "text/plain": [
       "['ram', 3, 'pravat', 3, 22, 12]"
      ]
     },
     "execution_count": 7,
     "metadata": {},
     "output_type": "execute_result"
    }
   ],
   "source": [
    "l[::-1]"
   ]
  },
  {
   "cell_type": "code",
   "execution_count": 8,
   "id": "42170841",
   "metadata": {},
   "outputs": [
    {
     "data": {
      "text/plain": [
       "[12, 22, 3, 'pravat', 3, 'ram', 'sam']"
      ]
     },
     "execution_count": 8,
     "metadata": {},
     "output_type": "execute_result"
    }
   ],
   "source": [
    "l+[\"sam\"]"
   ]
  },
  {
   "cell_type": "code",
   "execution_count": 9,
   "id": "204d64ec",
   "metadata": {},
   "outputs": [
    {
     "data": {
      "text/plain": [
       "[12, 22, 3, 'pravat', 3, 'ram', 'sammmmm', 1, 7, 2]"
      ]
     },
     "execution_count": 9,
     "metadata": {},
     "output_type": "execute_result"
    }
   ],
   "source": [
    "l+['sammmmm',1,7,2]"
   ]
  },
  {
   "cell_type": "code",
   "execution_count": 10,
   "id": "834565ff",
   "metadata": {},
   "outputs": [
    {
     "data": {
      "text/plain": [
       "[12, 22, 3, 'pravat', 3, 'ram', 12, 22, 3, 'pravat', 3, 'ram']"
      ]
     },
     "execution_count": 10,
     "metadata": {},
     "output_type": "execute_result"
    }
   ],
   "source": [
    "l*2"
   ]
  },
  {
   "cell_type": "code",
   "execution_count": 11,
   "id": "2a27db66",
   "metadata": {},
   "outputs": [],
   "source": [
    "l1=[12,5,33,'pravat','patra',33,87,'kumar']"
   ]
  },
  {
   "cell_type": "code",
   "execution_count": 12,
   "id": "5a609227",
   "metadata": {},
   "outputs": [
    {
     "data": {
      "text/plain": [
       "False"
      ]
     },
     "execution_count": 12,
     "metadata": {},
     "output_type": "execute_result"
    }
   ],
   "source": [
    "55 in l1"
   ]
  },
  {
   "cell_type": "code",
   "execution_count": 13,
   "id": "181d7259",
   "metadata": {},
   "outputs": [
    {
     "data": {
      "text/plain": [
       "True"
      ]
     },
     "execution_count": 13,
     "metadata": {},
     "output_type": "execute_result"
    }
   ],
   "source": [
    "'pravat'in l1"
   ]
  },
  {
   "cell_type": "code",
   "execution_count": 14,
   "id": "0d045843",
   "metadata": {},
   "outputs": [],
   "source": [
    "l2=[2,4,1,5,7,4]"
   ]
  },
  {
   "cell_type": "code",
   "execution_count": 15,
   "id": "ff20e78e",
   "metadata": {},
   "outputs": [
    {
     "data": {
      "text/plain": [
       "7"
      ]
     },
     "execution_count": 15,
     "metadata": {},
     "output_type": "execute_result"
    }
   ],
   "source": [
    "max(l2)"
   ]
  },
  {
   "cell_type": "code",
   "execution_count": 16,
   "id": "04784046",
   "metadata": {},
   "outputs": [
    {
     "data": {
      "text/plain": [
       "1"
      ]
     },
     "execution_count": 16,
     "metadata": {},
     "output_type": "execute_result"
    }
   ],
   "source": [
    "min(l2)"
   ]
  },
  {
   "cell_type": "code",
   "execution_count": 17,
   "id": "25475e42",
   "metadata": {},
   "outputs": [],
   "source": [
    "l3=['pravat', 'Prakash', 'Akaash','akdd']"
   ]
  },
  {
   "cell_type": "code",
   "execution_count": 18,
   "id": "4db7399a",
   "metadata": {},
   "outputs": [
    {
     "data": {
      "text/plain": [
       "'pravat'"
      ]
     },
     "execution_count": 18,
     "metadata": {},
     "output_type": "execute_result"
    }
   ],
   "source": [
    "max(l3)"
   ]
  },
  {
   "cell_type": "code",
   "execution_count": 19,
   "id": "db40d5f5",
   "metadata": {},
   "outputs": [
    {
     "data": {
      "text/plain": [
       "'Akaash'"
      ]
     },
     "execution_count": 19,
     "metadata": {},
     "output_type": "execute_result"
    }
   ],
   "source": [
    "min(l3)"
   ]
  },
  {
   "cell_type": "code",
   "execution_count": 20,
   "id": "82e99961",
   "metadata": {},
   "outputs": [],
   "source": [
    "l4=[2,6,1,44,'fd',6,'ufhr','pravat',3]"
   ]
  },
  {
   "cell_type": "code",
   "execution_count": 21,
   "id": "86488777",
   "metadata": {},
   "outputs": [],
   "source": [
    "l4.append('ww')"
   ]
  },
  {
   "cell_type": "code",
   "execution_count": 22,
   "id": "a36c143a",
   "metadata": {},
   "outputs": [
    {
     "data": {
      "text/plain": [
       "[2, 6, 1, 44, 'fd', 6, 'ufhr', 'pravat', 3, 'ww']"
      ]
     },
     "execution_count": 22,
     "metadata": {},
     "output_type": "execute_result"
    }
   ],
   "source": [
    "l4"
   ]
  },
  {
   "cell_type": "code",
   "execution_count": 23,
   "id": "fe725a96",
   "metadata": {},
   "outputs": [],
   "source": [
    "l4.append([12,4,3,'uuuuuuuuuu'])"
   ]
  },
  {
   "cell_type": "code",
   "execution_count": 24,
   "id": "17014743",
   "metadata": {},
   "outputs": [
    {
     "data": {
      "text/plain": [
       "[2, 6, 1, 44, 'fd', 6, 'ufhr', 'pravat', 3, 'ww', [12, 4, 3, 'uuuuuuuuuu']]"
      ]
     },
     "execution_count": 24,
     "metadata": {},
     "output_type": "execute_result"
    }
   ],
   "source": [
    "l4"
   ]
  },
  {
   "cell_type": "code",
   "execution_count": 28,
   "id": "6969c167",
   "metadata": {},
   "outputs": [],
   "source": [
    "l4.extend('pravat')"
   ]
  },
  {
   "cell_type": "code",
   "execution_count": 29,
   "id": "8a3bf545",
   "metadata": {},
   "outputs": [
    {
     "data": {
      "text/plain": [
       "[2,\n",
       " 6,\n",
       " 1,\n",
       " 44,\n",
       " 'fd',\n",
       " 6,\n",
       " 'ufhr',\n",
       " 'pravat',\n",
       " 3,\n",
       " 'ww',\n",
       " [12, 4, 3, 'uuuuuuuuuu'],\n",
       " 'pravat',\n",
       " 'p',\n",
       " 'r',\n",
       " 'a',\n",
       " 'v',\n",
       " 'a',\n",
       " 't']"
      ]
     },
     "execution_count": 29,
     "metadata": {},
     "output_type": "execute_result"
    }
   ],
   "source": [
    "l4"
   ]
  },
  {
   "cell_type": "code",
   "execution_count": 30,
   "id": "8d382375",
   "metadata": {},
   "outputs": [],
   "source": [
    "l4.extend(['dgfurhueu',2,4,'rgrgrgrg'])"
   ]
  },
  {
   "cell_type": "code",
   "execution_count": 31,
   "id": "53098090",
   "metadata": {},
   "outputs": [
    {
     "data": {
      "text/plain": [
       "[2,\n",
       " 6,\n",
       " 1,\n",
       " 44,\n",
       " 'fd',\n",
       " 6,\n",
       " 'ufhr',\n",
       " 'pravat',\n",
       " 3,\n",
       " 'ww',\n",
       " [12, 4, 3, 'uuuuuuuuuu'],\n",
       " 'pravat',\n",
       " 'p',\n",
       " 'r',\n",
       " 'a',\n",
       " 'v',\n",
       " 'a',\n",
       " 't',\n",
       " 'dgfurhueu',\n",
       " 2,\n",
       " 4,\n",
       " 'rgrgrgrg']"
      ]
     },
     "execution_count": 31,
     "metadata": {},
     "output_type": "execute_result"
    }
   ],
   "source": [
    "l4"
   ]
  },
  {
   "cell_type": "code",
   "execution_count": 32,
   "id": "e8dde70e",
   "metadata": {},
   "outputs": [],
   "source": [
    "l5=[45,2,1,7,55,67,'pravat','rks','bhisma',3,8,9]"
   ]
  },
  {
   "cell_type": "code",
   "execution_count": 33,
   "id": "536756d8",
   "metadata": {},
   "outputs": [
    {
     "data": {
      "text/plain": [
       "9"
      ]
     },
     "execution_count": 33,
     "metadata": {},
     "output_type": "execute_result"
    }
   ],
   "source": [
    "l5.pop()"
   ]
  },
  {
   "cell_type": "code",
   "execution_count": 34,
   "id": "d48eff25",
   "metadata": {},
   "outputs": [
    {
     "data": {
      "text/plain": [
       "55"
      ]
     },
     "execution_count": 34,
     "metadata": {},
     "output_type": "execute_result"
    }
   ],
   "source": [
    "l5.pop(4)"
   ]
  },
  {
   "cell_type": "code",
   "execution_count": 35,
   "id": "50900568",
   "metadata": {},
   "outputs": [
    {
     "data": {
      "text/plain": [
       "[45, 2, 1, 7, 67, 'pravat', 'rks', 'bhisma', 3, 8]"
      ]
     },
     "execution_count": 35,
     "metadata": {},
     "output_type": "execute_result"
    }
   ],
   "source": [
    "l5"
   ]
  },
  {
   "cell_type": "code",
   "execution_count": 36,
   "id": "3c676b3a",
   "metadata": {},
   "outputs": [],
   "source": [
    "l5.remove('rks')"
   ]
  },
  {
   "cell_type": "code",
   "execution_count": 37,
   "id": "ac471e2f",
   "metadata": {},
   "outputs": [
    {
     "data": {
      "text/plain": [
       "[45, 2, 1, 7, 67, 'pravat', 'bhisma', 3, 8]"
      ]
     },
     "execution_count": 37,
     "metadata": {},
     "output_type": "execute_result"
    }
   ],
   "source": [
    "l5"
   ]
  },
  {
   "cell_type": "code",
   "execution_count": 38,
   "id": "908f8cfe",
   "metadata": {},
   "outputs": [
    {
     "data": {
      "text/plain": [
       "1"
      ]
     },
     "execution_count": 38,
     "metadata": {},
     "output_type": "execute_result"
    }
   ],
   "source": [
    "l5.index(2)"
   ]
  },
  {
   "cell_type": "code",
   "execution_count": 40,
   "id": "cecff582",
   "metadata": {},
   "outputs": [],
   "source": [
    "l6=[2,3,1,1,1,1,2,3,6]"
   ]
  },
  {
   "cell_type": "code",
   "execution_count": 41,
   "id": "876c78e7",
   "metadata": {},
   "outputs": [
    {
     "data": {
      "text/plain": [
       "2"
      ]
     },
     "execution_count": 41,
     "metadata": {},
     "output_type": "execute_result"
    }
   ],
   "source": [
    "l6.index(1)"
   ]
  },
  {
   "cell_type": "code",
   "execution_count": 42,
   "id": "f2ec35f8",
   "metadata": {},
   "outputs": [],
   "source": [
    "l7=[[2,3,'pravat'],[4,5,2],['krish','hasim',3]]"
   ]
  },
  {
   "cell_type": "code",
   "execution_count": 43,
   "id": "84e684e6",
   "metadata": {},
   "outputs": [
    {
     "data": {
      "text/plain": [
       "'hasim'"
      ]
     },
     "execution_count": 43,
     "metadata": {},
     "output_type": "execute_result"
    }
   ],
   "source": [
    "l7[2][1]"
   ]
  },
  {
   "cell_type": "code",
   "execution_count": 44,
   "id": "46e62614",
   "metadata": {},
   "outputs": [],
   "source": [
    "l7.insert(1,['patra','sen'])"
   ]
  },
  {
   "cell_type": "code",
   "execution_count": 45,
   "id": "c37ccc0d",
   "metadata": {},
   "outputs": [
    {
     "data": {
      "text/plain": [
       "[[2, 3, 'pravat'], ['patra', 'sen'], [4, 5, 2], ['krish', 'hasim', 3]]"
      ]
     },
     "execution_count": 45,
     "metadata": {},
     "output_type": "execute_result"
    }
   ],
   "source": [
    "l7"
   ]
  },
  {
   "cell_type": "code",
   "execution_count": 48,
   "id": "60b415f9",
   "metadata": {},
   "outputs": [],
   "source": [
    "l7[3][0]='sudh'"
   ]
  },
  {
   "cell_type": "code",
   "execution_count": 49,
   "id": "eff033ba",
   "metadata": {},
   "outputs": [
    {
     "data": {
      "text/plain": [
       "[[2, 3, 'pravat'], ['patra', 'sen'], ['sudh', 5, 2], ['sudh', 'hasim', 3]]"
      ]
     },
     "execution_count": 49,
     "metadata": {},
     "output_type": "execute_result"
    }
   ],
   "source": [
    "l7"
   ]
  },
  {
   "cell_type": "code",
   "execution_count": 50,
   "id": "a07722e1",
   "metadata": {},
   "outputs": [],
   "source": [
    "l7.remove(['sudh', 5, 2])"
   ]
  },
  {
   "cell_type": "code",
   "execution_count": 51,
   "id": "fe282ce7",
   "metadata": {},
   "outputs": [
    {
     "data": {
      "text/plain": [
       "[[2, 3, 'pravat'], ['patra', 'sen'], ['sudh', 'hasim', 3]]"
      ]
     },
     "execution_count": 51,
     "metadata": {},
     "output_type": "execute_result"
    }
   ],
   "source": [
    "l7"
   ]
  },
  {
   "cell_type": "code",
   "execution_count": 52,
   "id": "e41aea92",
   "metadata": {},
   "outputs": [],
   "source": [
    "l7.reverse()"
   ]
  },
  {
   "cell_type": "code",
   "execution_count": 53,
   "id": "a51ee991",
   "metadata": {},
   "outputs": [
    {
     "data": {
      "text/plain": [
       "[['sudh', 'hasim', 3], ['patra', 'sen'], [2, 3, 'pravat']]"
      ]
     },
     "execution_count": 53,
     "metadata": {},
     "output_type": "execute_result"
    }
   ],
   "source": [
    "l7"
   ]
  },
  {
   "cell_type": "markdown",
   "id": "ab2c69cc",
   "metadata": {},
   "source": [
    "__________________________________________________________________________________________________________\n",
    "Practice of tuple :"
   ]
  },
  {
   "cell_type": "code",
   "execution_count": 1,
   "id": "fa0e4013",
   "metadata": {},
   "outputs": [],
   "source": [
    "t=(12,33,12,7,'pravat', 'patra', True,12.22)"
   ]
  },
  {
   "cell_type": "code",
   "execution_count": 2,
   "id": "31c1c15b",
   "metadata": {},
   "outputs": [
    {
     "data": {
      "text/plain": [
       "tuple"
      ]
     },
     "execution_count": 2,
     "metadata": {},
     "output_type": "execute_result"
    }
   ],
   "source": [
    "type(t)"
   ]
  },
  {
   "cell_type": "code",
   "execution_count": 3,
   "id": "8d454154",
   "metadata": {},
   "outputs": [
    {
     "data": {
      "text/plain": [
       "12"
      ]
     },
     "execution_count": 3,
     "metadata": {},
     "output_type": "execute_result"
    }
   ],
   "source": [
    "t[2]"
   ]
  },
  {
   "cell_type": "code",
   "execution_count": 4,
   "id": "0f5beaf6",
   "metadata": {},
   "outputs": [
    {
     "data": {
      "text/plain": [
       "(12.22, True, 'patra', 'pravat', 7, 12, 33, 12)"
      ]
     },
     "execution_count": 4,
     "metadata": {},
     "output_type": "execute_result"
    }
   ],
   "source": [
    "t[::-1]"
   ]
  },
  {
   "cell_type": "code",
   "execution_count": 5,
   "id": "a787c9f7",
   "metadata": {},
   "outputs": [
    {
     "data": {
      "text/plain": [
       "0"
      ]
     },
     "execution_count": 5,
     "metadata": {},
     "output_type": "execute_result"
    }
   ],
   "source": [
    "t.count(4)"
   ]
  },
  {
   "cell_type": "code",
   "execution_count": 6,
   "id": "ec7829fd",
   "metadata": {},
   "outputs": [
    {
     "data": {
      "text/plain": [
       "2"
      ]
     },
     "execution_count": 6,
     "metadata": {},
     "output_type": "execute_result"
    }
   ],
   "source": [
    "t.count(12)"
   ]
  },
  {
   "cell_type": "code",
   "execution_count": 7,
   "id": "701b4ef1",
   "metadata": {},
   "outputs": [
    {
     "data": {
      "text/plain": [
       "0"
      ]
     },
     "execution_count": 7,
     "metadata": {},
     "output_type": "execute_result"
    }
   ],
   "source": [
    "t.index(12)"
   ]
  },
  {
   "cell_type": "code",
   "execution_count": 8,
   "id": "65435c59",
   "metadata": {},
   "outputs": [],
   "source": [
    "t=list(t)"
   ]
  },
  {
   "cell_type": "code",
   "execution_count": 9,
   "id": "3a6ef404",
   "metadata": {},
   "outputs": [
    {
     "data": {
      "text/plain": [
       "[12, 33, 12, 7, 'pravat', 'patra', True, 12.22]"
      ]
     },
     "execution_count": 9,
     "metadata": {},
     "output_type": "execute_result"
    }
   ],
   "source": [
    "t"
   ]
  },
  {
   "cell_type": "code",
   "execution_count": 10,
   "id": "fb497796",
   "metadata": {},
   "outputs": [],
   "source": [
    "t=tuple(t)"
   ]
  },
  {
   "cell_type": "code",
   "execution_count": 11,
   "id": "0d2242a4",
   "metadata": {},
   "outputs": [
    {
     "data": {
      "text/plain": [
       "(12, 33, 12, 7, 'pravat', 'patra', True, 12.22)"
      ]
     },
     "execution_count": 11,
     "metadata": {},
     "output_type": "execute_result"
    }
   ],
   "source": [
    "t"
   ]
  },
  {
   "cell_type": "markdown",
   "id": "ef5b153a",
   "metadata": {},
   "source": [
    "______________________________________________________________________________________\n",
    "Pracrtice of dictionary :"
   ]
  },
  {
   "cell_type": "code",
   "execution_count": 3,
   "id": "2798e83b",
   "metadata": {},
   "outputs": [],
   "source": [
    "d={'ram':23,'ppp':456,345:'djfbdjf'}"
   ]
  },
  {
   "cell_type": "code",
   "execution_count": 4,
   "id": "bc77437d",
   "metadata": {},
   "outputs": [
    {
     "data": {
      "text/plain": [
       "dict"
      ]
     },
     "execution_count": 4,
     "metadata": {},
     "output_type": "execute_result"
    }
   ],
   "source": [
    "type(d)"
   ]
  },
  {
   "cell_type": "code",
   "execution_count": 5,
   "id": "c11df863",
   "metadata": {},
   "outputs": [
    {
     "data": {
      "text/plain": [
       "dict_items([('ram', 23), ('ppp', 456), (345, 'djfbdjf')])"
      ]
     },
     "execution_count": 5,
     "metadata": {},
     "output_type": "execute_result"
    }
   ],
   "source": [
    "d.items()"
   ]
  },
  {
   "cell_type": "code",
   "execution_count": 6,
   "id": "03adca62",
   "metadata": {},
   "outputs": [
    {
     "data": {
      "text/plain": [
       "23"
      ]
     },
     "execution_count": 6,
     "metadata": {},
     "output_type": "execute_result"
    }
   ],
   "source": [
    "d.pop('ram')"
   ]
  },
  {
   "cell_type": "code",
   "execution_count": 7,
   "id": "df8f6b2e",
   "metadata": {},
   "outputs": [
    {
     "data": {
      "text/plain": [
       "{'ppp': 456, 345: 'djfbdjf'}"
      ]
     },
     "execution_count": 7,
     "metadata": {},
     "output_type": "execute_result"
    }
   ],
   "source": [
    "d"
   ]
  },
  {
   "cell_type": "code",
   "execution_count": 14,
   "id": "267ecb0b",
   "metadata": {},
   "outputs": [],
   "source": [
    "d['ppp']=345"
   ]
  },
  {
   "cell_type": "code",
   "execution_count": 15,
   "id": "f598ce1b",
   "metadata": {},
   "outputs": [
    {
     "data": {
      "text/plain": [
       "{'ppp': 345, 345: 'djfbdjf'}"
      ]
     },
     "execution_count": 15,
     "metadata": {},
     "output_type": "execute_result"
    }
   ],
   "source": [
    "d"
   ]
  },
  {
   "cell_type": "code",
   "execution_count": null,
   "id": "d0924648",
   "metadata": {},
   "outputs": [],
   "source": []
  }
 ],
 "metadata": {
  "kernelspec": {
   "display_name": "Python 3",
   "language": "python",
   "name": "python3"
  },
  "language_info": {
   "codemirror_mode": {
    "name": "ipython",
    "version": 3
   },
   "file_extension": ".py",
   "mimetype": "text/x-python",
   "name": "python",
   "nbconvert_exporter": "python",
   "pygments_lexer": "ipython3",
   "version": "3.8.8"
  }
 },
 "nbformat": 4,
 "nbformat_minor": 5
}
