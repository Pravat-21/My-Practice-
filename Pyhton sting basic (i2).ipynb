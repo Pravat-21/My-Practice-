{
 "cells": [
  {
   "cell_type": "code",
   "execution_count": 6,
   "id": "08215ae3",
   "metadata": {},
   "outputs": [],
   "source": [
    "p=\"I am Learning the python programming \""
   ]
  },
  {
   "cell_type": "code",
   "execution_count": 7,
   "id": "5818f8ec",
   "metadata": {},
   "outputs": [
    {
     "data": {
      "text/plain": [
       "str"
      ]
     },
     "execution_count": 7,
     "metadata": {},
     "output_type": "execute_result"
    }
   ],
   "source": [
    "type(p)"
   ]
  },
  {
   "cell_type": "code",
   "execution_count": 8,
   "id": "c5eb3628",
   "metadata": {},
   "outputs": [
    {
     "data": {
      "text/plain": [
       "'I am '"
      ]
     },
     "execution_count": 8,
     "metadata": {},
     "output_type": "execute_result"
    }
   ],
   "source": [
    "p[0:5]"
   ]
  },
  {
   "cell_type": "code",
   "execution_count": 9,
   "id": "7f6fffb7",
   "metadata": {},
   "outputs": [
    {
     "data": {
      "text/plain": [
       "'am Learning the python programming '"
      ]
     },
     "execution_count": 9,
     "metadata": {},
     "output_type": "execute_result"
    }
   ],
   "source": [
    "p[2:100]"
   ]
  },
  {
   "cell_type": "code",
   "execution_count": 10,
   "id": "a7846ae9",
   "metadata": {},
   "outputs": [
    {
     "data": {
      "text/plain": [
       "''"
      ]
     },
     "execution_count": 10,
     "metadata": {},
     "output_type": "execute_result"
    }
   ],
   "source": [
    "p[-1:-100]"
   ]
  },
  {
   "cell_type": "code",
   "execution_count": 11,
   "id": "82d04aaf",
   "metadata": {},
   "outputs": [
    {
     "data": {
      "text/plain": [
       "''"
      ]
     },
     "execution_count": 11,
     "metadata": {},
     "output_type": "execute_result"
    }
   ],
   "source": [
    "p[-1:20]"
   ]
  },
  {
   "cell_type": "code",
   "execution_count": 12,
   "id": "c9db91a7",
   "metadata": {},
   "outputs": [
    {
     "data": {
      "text/plain": [
       "' gnimmargorp nohtyp eht gninraeL ma I'"
      ]
     },
     "execution_count": 12,
     "metadata": {},
     "output_type": "execute_result"
    }
   ],
   "source": [
    "p[-1:-100:-1]"
   ]
  },
  {
   "cell_type": "code",
   "execution_count": 13,
   "id": "a6efd652",
   "metadata": {},
   "outputs": [
    {
     "data": {
      "text/plain": [
       "' gnimmargorp nohtyp eht gninraeL ma I'"
      ]
     },
     "execution_count": 13,
     "metadata": {},
     "output_type": "execute_result"
    }
   ],
   "source": [
    "p[::-1]"
   ]
  },
  {
   "cell_type": "code",
   "execution_count": 14,
   "id": "428acffa",
   "metadata": {},
   "outputs": [
    {
     "data": {
      "text/plain": [
       "'Imenghph oai '"
      ]
     },
     "execution_count": 14,
     "metadata": {},
     "output_type": "execute_result"
    }
   ],
   "source": [
    "p[::3]"
   ]
  },
  {
   "cell_type": "code",
   "execution_count": 15,
   "id": "9f746fce",
   "metadata": {},
   "outputs": [
    {
     "data": {
      "text/plain": [
       "'I am Learning the python programming '"
      ]
     },
     "execution_count": 15,
     "metadata": {},
     "output_type": "execute_result"
    }
   ],
   "source": [
    "p"
   ]
  },
  {
   "cell_type": "code",
   "execution_count": 16,
   "id": "1c94ff5c",
   "metadata": {},
   "outputs": [
    {
     "data": {
      "text/plain": [
       "'I am Learning the python programming 1234'"
      ]
     },
     "execution_count": 16,
     "metadata": {},
     "output_type": "execute_result"
    }
   ],
   "source": [
    "p+'1234'"
   ]
  },
  {
   "cell_type": "code",
   "execution_count": 17,
   "id": "516c6a55",
   "metadata": {},
   "outputs": [
    {
     "data": {
      "text/plain": [
       "'I am Learning the python programming 12345566'"
      ]
     },
     "execution_count": 17,
     "metadata": {},
     "output_type": "execute_result"
    }
   ],
   "source": [
    "p+str(12345566)"
   ]
  },
  {
   "cell_type": "code",
   "execution_count": 18,
   "id": "e9489873",
   "metadata": {},
   "outputs": [
    {
     "data": {
      "text/plain": [
       "37"
      ]
     },
     "execution_count": 18,
     "metadata": {},
     "output_type": "execute_result"
    }
   ],
   "source": [
    "len(p)"
   ]
  },
  {
   "cell_type": "code",
   "execution_count": 23,
   "id": "f50fd0d9",
   "metadata": {},
   "outputs": [
    {
     "data": {
      "text/plain": [
       "3"
      ]
     },
     "execution_count": 23,
     "metadata": {},
     "output_type": "execute_result"
    }
   ],
   "source": [
    "p.count('m')"
   ]
  },
  {
   "cell_type": "code",
   "execution_count": 24,
   "id": "f4e587af",
   "metadata": {},
   "outputs": [
    {
     "data": {
      "text/plain": [
       "2"
      ]
     },
     "execution_count": 24,
     "metadata": {},
     "output_type": "execute_result"
    }
   ],
   "source": [
    "p.count('ing')"
   ]
  },
  {
   "cell_type": "code",
   "execution_count": 25,
   "id": "b5bc78bb",
   "metadata": {},
   "outputs": [
    {
     "data": {
      "text/plain": [
       "0"
      ]
     },
     "execution_count": 25,
     "metadata": {},
     "output_type": "execute_result"
    }
   ],
   "source": [
    "p.count('sdhbeufh')"
   ]
  },
  {
   "cell_type": "code",
   "execution_count": 26,
   "id": "5cb89c06",
   "metadata": {},
   "outputs": [
    {
     "data": {
      "text/plain": [
       "6"
      ]
     },
     "execution_count": 26,
     "metadata": {},
     "output_type": "execute_result"
    }
   ],
   "source": [
    "p.count(' ')"
   ]
  },
  {
   "cell_type": "code",
   "execution_count": 28,
   "id": "7be0fb76",
   "metadata": {},
   "outputs": [],
   "source": [
    "s=\"\"\"A galaxy is a gravitationally bound system of stars, stellar remnants, interstellar gas, dust, and dark matter.[1][2] The word is derived from the Greek galaxias (γαλαξίας), literally 'milky', a reference to the Milky Way galaxy that contains the Solar System. Galaxies, averaging an estimated 100 million stars,[3] range in size from dwarfs with less than a hundred million (108) stars, to the largest galaxies known - supergiants with one hundred trillion (1014) stars,[4] each orbiting its galaxy's center of mass.\n",
    "\n",
    "Galaxies are categorized according to their visual morphology as elliptical,[5] spiral, or irregular.[6] Many are thought to have supermassive black holes at their centers. The Milky Way's central black hole, known as Sagittarius A*, has a mass four million times greater than the Sun.[7] As of March 2016, GN-z11 is the oldest and most distant galaxy observed. It has a comoving distance of 32 billion light-years from Earth, and is seen as it existed just 400 million years after the Big Bang.\n",
    "\n",
    "In 2021, data from NASA's New Horizons space probe was used to revise the previous estimate to roughly 200 billion galaxies (2×1011),[8] which followed a 2016 estimate that there were two trillion (2×1012)[9] or more[10][11] galaxies in the observable universe, overall, and as many as an estimated 1×1024 stars[12][13]\"\"\""
   ]
  },
  {
   "cell_type": "code",
   "execution_count": 31,
   "id": "0df1ce5e",
   "metadata": {},
   "outputs": [],
   "source": [
    "u=s.split(' ')"
   ]
  },
  {
   "cell_type": "code",
   "execution_count": 30,
   "id": "6f903bac",
   "metadata": {},
   "outputs": [
    {
     "data": {
      "text/plain": [
       "['A g',\n",
       " 'l',\n",
       " 'xy is ',\n",
       " ' gr',\n",
       " 'vit',\n",
       " 'tion',\n",
       " 'lly bound system of st',\n",
       " 'rs, stell',\n",
       " 'r remn',\n",
       " 'nts, interstell',\n",
       " 'r g',\n",
       " 's, dust, ',\n",
       " 'nd d',\n",
       " 'rk m',\n",
       " 'tter.[1][2] The word is derived from the Greek g',\n",
       " 'l',\n",
       " 'xi',\n",
       " 's (γαλαξίας), liter',\n",
       " \"lly 'milky', \",\n",
       " ' reference to the Milky W',\n",
       " 'y g',\n",
       " 'l',\n",
       " 'xy th',\n",
       " 't cont',\n",
       " 'ins the Sol',\n",
       " 'r System. G',\n",
       " 'l',\n",
       " 'xies, ',\n",
       " 'ver',\n",
       " 'ging ',\n",
       " 'n estim',\n",
       " 'ted 100 million st',\n",
       " 'rs,[3] r',\n",
       " 'nge in size from dw',\n",
       " 'rfs with less th',\n",
       " 'n ',\n",
       " ' hundred million (108) st',\n",
       " 'rs, to the l',\n",
       " 'rgest g',\n",
       " 'l',\n",
       " 'xies known - supergi',\n",
       " 'nts with one hundred trillion (1014) st',\n",
       " 'rs,[4] e',\n",
       " 'ch orbiting its g',\n",
       " 'l',\n",
       " \"xy's center of m\",\n",
       " 'ss.\\n\\nG',\n",
       " 'l',\n",
       " 'xies ',\n",
       " 're c',\n",
       " 'tegorized ',\n",
       " 'ccording to their visu',\n",
       " 'l morphology ',\n",
       " 's elliptic',\n",
       " 'l,[5] spir',\n",
       " 'l, or irregul',\n",
       " 'r.[6] M',\n",
       " 'ny ',\n",
       " 're thought to h',\n",
       " 've superm',\n",
       " 'ssive bl',\n",
       " 'ck holes ',\n",
       " 't their centers. The Milky W',\n",
       " \"y's centr\",\n",
       " 'l bl',\n",
       " 'ck hole, known ',\n",
       " 's S',\n",
       " 'gitt',\n",
       " 'rius A*, h',\n",
       " 's ',\n",
       " ' m',\n",
       " 'ss four million times gre',\n",
       " 'ter th',\n",
       " 'n the Sun.[7] As of M',\n",
       " 'rch 2016, GN-z11 is the oldest ',\n",
       " 'nd most dist',\n",
       " 'nt g',\n",
       " 'l',\n",
       " 'xy observed. It h',\n",
       " 's ',\n",
       " ' comoving dist',\n",
       " 'nce of 32 billion light-ye',\n",
       " 'rs from E',\n",
       " 'rth, ',\n",
       " 'nd is seen ',\n",
       " 's it existed just 400 million ye',\n",
       " 'rs ',\n",
       " 'fter the Big B',\n",
       " 'ng.\\n\\nIn 2021, d',\n",
       " 't',\n",
       " \" from NASA's New Horizons sp\",\n",
       " 'ce probe w',\n",
       " 's used to revise the previous estim',\n",
       " 'te to roughly 200 billion g',\n",
       " 'l',\n",
       " 'xies (2×1011),[8] which followed ',\n",
       " ' 2016 estim',\n",
       " 'te th',\n",
       " 't there were two trillion (2×1012)[9] or more[10][11] g',\n",
       " 'l',\n",
       " 'xies in the observ',\n",
       " 'ble universe, over',\n",
       " 'll, ',\n",
       " 'nd ',\n",
       " 's m',\n",
       " 'ny ',\n",
       " 's ',\n",
       " 'n estim',\n",
       " 'ted 1×1024 st',\n",
       " 'rs[12][13]']"
      ]
     },
     "execution_count": 30,
     "metadata": {},
     "output_type": "execute_result"
    }
   ],
   "source": [
    "s.split('a')"
   ]
  },
  {
   "cell_type": "code",
   "execution_count": 33,
   "id": "0df5389c",
   "metadata": {},
   "outputs": [
    {
     "data": {
      "text/plain": [
       "list"
      ]
     },
     "execution_count": 33,
     "metadata": {},
     "output_type": "execute_result"
    }
   ],
   "source": [
    "type(u)"
   ]
  },
  {
   "cell_type": "code",
   "execution_count": 34,
   "id": "5f29c08b",
   "metadata": {},
   "outputs": [
    {
     "data": {
      "text/plain": [
       "209"
      ]
     },
     "execution_count": 34,
     "metadata": {},
     "output_type": "execute_result"
    }
   ],
   "source": [
    "len(u)"
   ]
  },
  {
   "cell_type": "code",
   "execution_count": 37,
   "id": "2f7fc166",
   "metadata": {},
   "outputs": [
    {
     "data": {
      "text/plain": [
       "['A galaxy is a gravitationally bound system of stars, stellar remnants, interstellar gas, dust, and dark matter',\n",
       " \"[1][2] The word is derived from the Greek galaxias (γαλαξίας), literally 'milky', a reference to the Milky Way galaxy that contains the Solar System\",\n",
       " \" Galaxies, averaging an estimated 100 million stars,[3] range in size from dwarfs with less than a hundred million (108) stars, to the largest galaxies known - supergiants with one hundred trillion (1014) stars,[4] each orbiting its galaxy's center of mass\",\n",
       " '\\n\\nGalaxies are categorized according to their visual morphology as elliptical,[5] spiral, or irregular',\n",
       " '[6] Many are thought to have supermassive black holes at their centers',\n",
       " \" The Milky Way's central black hole, known as Sagittarius A*, has a mass four million times greater than the Sun\",\n",
       " '[7] As of March 2016, GN-z11 is the oldest and most distant galaxy observed',\n",
       " ' It has a comoving distance of 32 billion light-years from Earth, and is seen as it existed just 400 million years after the Big Bang',\n",
       " \"\\n\\nIn 2021, data from NASA's New Horizons space probe was used to revise the previous estimate to roughly 200 billion galaxies (2×1011),[8] which followed a 2016 estimate that there were two trillion (2×1012)[9] or more[10][11] galaxies in the observable universe, overall, and as many as an estimated 1×1024 stars[12][13]\"]"
      ]
     },
     "execution_count": 37,
     "metadata": {},
     "output_type": "execute_result"
    }
   ],
   "source": [
    "w=s.split('.')\n",
    "w"
   ]
  },
  {
   "cell_type": "code",
   "execution_count": 38,
   "id": "a57dc46b",
   "metadata": {},
   "outputs": [
    {
     "data": {
      "text/plain": [
       "9"
      ]
     },
     "execution_count": 38,
     "metadata": {},
     "output_type": "execute_result"
    }
   ],
   "source": [
    "len(w)"
   ]
  },
  {
   "cell_type": "code",
   "execution_count": 39,
   "id": "c9d52b9e",
   "metadata": {},
   "outputs": [
    {
     "data": {
      "text/plain": [
       "\"A GALAXY IS A GRAVITATIONALLY BOUND SYSTEM OF STARS, STELLAR REMNANTS, INTERSTELLAR GAS, DUST, AND DARK MATTER.[1][2] THE WORD IS DERIVED FROM THE GREEK GALAXIAS (ΓΑΛΑΞΊΑΣ), LITERALLY 'MILKY', A REFERENCE TO THE MILKY WAY GALAXY THAT CONTAINS THE SOLAR SYSTEM. GALAXIES, AVERAGING AN ESTIMATED 100 MILLION STARS,[3] RANGE IN SIZE FROM DWARFS WITH LESS THAN A HUNDRED MILLION (108) STARS, TO THE LARGEST GALAXIES KNOWN - SUPERGIANTS WITH ONE HUNDRED TRILLION (1014) STARS,[4] EACH ORBITING ITS GALAXY'S CENTER OF MASS.\\n\\nGALAXIES ARE CATEGORIZED ACCORDING TO THEIR VISUAL MORPHOLOGY AS ELLIPTICAL,[5] SPIRAL, OR IRREGULAR.[6] MANY ARE THOUGHT TO HAVE SUPERMASSIVE BLACK HOLES AT THEIR CENTERS. THE MILKY WAY'S CENTRAL BLACK HOLE, KNOWN AS SAGITTARIUS A*, HAS A MASS FOUR MILLION TIMES GREATER THAN THE SUN.[7] AS OF MARCH 2016, GN-Z11 IS THE OLDEST AND MOST DISTANT GALAXY OBSERVED. IT HAS A COMOVING DISTANCE OF 32 BILLION LIGHT-YEARS FROM EARTH, AND IS SEEN AS IT EXISTED JUST 400 MILLION YEARS AFTER THE BIG BANG.\\n\\nIN 2021, DATA FROM NASA'S NEW HORIZONS SPACE PROBE WAS USED TO REVISE THE PREVIOUS ESTIMATE TO ROUGHLY 200 BILLION GALAXIES (2×1011),[8] WHICH FOLLOWED A 2016 ESTIMATE THAT THERE WERE TWO TRILLION (2×1012)[9] OR MORE[10][11] GALAXIES IN THE OBSERVABLE UNIVERSE, OVERALL, AND AS MANY AS AN ESTIMATED 1×1024 STARS[12][13]\""
      ]
     },
     "execution_count": 39,
     "metadata": {},
     "output_type": "execute_result"
    }
   ],
   "source": [
    "s.upper()"
   ]
  },
  {
   "cell_type": "code",
   "execution_count": 40,
   "id": "6a4ca363",
   "metadata": {},
   "outputs": [],
   "source": [
    "r='My name IS pravAT PATra'"
   ]
  },
  {
   "cell_type": "code",
   "execution_count": 41,
   "id": "3b8486af",
   "metadata": {},
   "outputs": [
    {
     "data": {
      "text/plain": [
       "'My Name Is Pravat Patra'"
      ]
     },
     "execution_count": 41,
     "metadata": {},
     "output_type": "execute_result"
    }
   ],
   "source": [
    "r.title()"
   ]
  },
  {
   "cell_type": "code",
   "execution_count": 42,
   "id": "3767a8b0",
   "metadata": {},
   "outputs": [
    {
     "data": {
      "text/plain": [
       "'My name is pravat patra'"
      ]
     },
     "execution_count": 42,
     "metadata": {},
     "output_type": "execute_result"
    }
   ],
   "source": [
    "r.capitalize()"
   ]
  },
  {
   "cell_type": "code",
   "execution_count": 43,
   "id": "d8b370b0",
   "metadata": {},
   "outputs": [
    {
     "data": {
      "text/plain": [
       "'mY NAME is PRAVat patRA'"
      ]
     },
     "execution_count": 43,
     "metadata": {},
     "output_type": "execute_result"
    }
   ],
   "source": [
    "r.swapcase()"
   ]
  },
  {
   "cell_type": "code",
   "execution_count": 44,
   "id": "3aca165d",
   "metadata": {},
   "outputs": [
    {
     "data": {
      "text/plain": [
       "<reversed at 0x2a699a79970>"
      ]
     },
     "execution_count": 44,
     "metadata": {},
     "output_type": "execute_result"
    }
   ],
   "source": [
    "reversed(s)"
   ]
  },
  {
   "cell_type": "code",
   "execution_count": 46,
   "id": "e7a3a2df",
   "metadata": {},
   "outputs": [
    {
     "data": {
      "text/plain": [
       "'arTAP TAvarp SI eman yM'"
      ]
     },
     "execution_count": 46,
     "metadata": {},
     "output_type": "execute_result"
    }
   ],
   "source": [
    "''.join(reversed(r))"
   ]
  },
  {
   "cell_type": "code",
   "execution_count": 47,
   "id": "9a6572ff",
   "metadata": {},
   "outputs": [],
   "source": [
    "q=\" rap  \""
   ]
  },
  {
   "cell_type": "code",
   "execution_count": 48,
   "id": "8c889200",
   "metadata": {},
   "outputs": [
    {
     "data": {
      "text/plain": [
       "'rap'"
      ]
     },
     "execution_count": 48,
     "metadata": {},
     "output_type": "execute_result"
    }
   ],
   "source": [
    "q.strip()"
   ]
  },
  {
   "cell_type": "code",
   "execution_count": 49,
   "id": "b299e43c",
   "metadata": {},
   "outputs": [
    {
     "data": {
      "text/plain": [
       "'rap  '"
      ]
     },
     "execution_count": 49,
     "metadata": {},
     "output_type": "execute_result"
    }
   ],
   "source": [
    "q.lstrip()"
   ]
  },
  {
   "cell_type": "code",
   "execution_count": 50,
   "id": "4b02f535",
   "metadata": {},
   "outputs": [
    {
     "data": {
      "text/plain": [
       "' rap'"
      ]
     },
     "execution_count": 50,
     "metadata": {},
     "output_type": "execute_result"
    }
   ],
   "source": [
    "q.rstrip()"
   ]
  },
  {
   "cell_type": "code",
   "execution_count": 51,
   "id": "2ec716cf",
   "metadata": {},
   "outputs": [
    {
     "data": {
      "text/plain": [
       "' qrqaqpq q '"
      ]
     },
     "execution_count": 51,
     "metadata": {},
     "output_type": "execute_result"
    }
   ],
   "source": [
    "'q'.join(q)"
   ]
  },
  {
   "cell_type": "code",
   "execution_count": 52,
   "id": "adf7f2c9",
   "metadata": {},
   "outputs": [],
   "source": [
    "m='pravat'"
   ]
  },
  {
   "cell_type": "code",
   "execution_count": 53,
   "id": "acc49f9a",
   "metadata": {},
   "outputs": [
    {
     "data": {
      "text/plain": [
       "'p-r-a-v-a-t'"
      ]
     },
     "execution_count": 53,
     "metadata": {},
     "output_type": "execute_result"
    }
   ],
   "source": [
    "'-'.join(m)"
   ]
  },
  {
   "cell_type": "code",
   "execution_count": 56,
   "id": "063b553b",
   "metadata": {},
   "outputs": [
    {
     "data": {
      "text/plain": [
       "'-----------------------------------------------pravat-----------------------------------------------'"
      ]
     },
     "execution_count": 56,
     "metadata": {},
     "output_type": "execute_result"
    }
   ],
   "source": [
    "m.center(100,'-')"
   ]
  },
  {
   "cell_type": "code",
   "execution_count": 57,
   "id": "e5855926",
   "metadata": {},
   "outputs": [
    {
     "data": {
      "text/plain": [
       "'pravat'"
      ]
     },
     "execution_count": 57,
     "metadata": {},
     "output_type": "execute_result"
    }
   ],
   "source": [
    "m"
   ]
  },
  {
   "cell_type": "code",
   "execution_count": 58,
   "id": "c1bc8bad",
   "metadata": {},
   "outputs": [
    {
     "data": {
      "text/plain": [
       "False"
      ]
     },
     "execution_count": 58,
     "metadata": {},
     "output_type": "execute_result"
    }
   ],
   "source": [
    "m.isupper()"
   ]
  },
  {
   "cell_type": "code",
   "execution_count": 59,
   "id": "2511a418",
   "metadata": {},
   "outputs": [
    {
     "data": {
      "text/plain": [
       "True"
      ]
     },
     "execution_count": 59,
     "metadata": {},
     "output_type": "execute_result"
    }
   ],
   "source": [
    "m.islower()"
   ]
  },
  {
   "cell_type": "code",
   "execution_count": 60,
   "id": "aec2a802",
   "metadata": {},
   "outputs": [],
   "source": [
    "p='Pravat'"
   ]
  },
  {
   "cell_type": "code",
   "execution_count": 61,
   "id": "3bfd4469",
   "metadata": {},
   "outputs": [
    {
     "data": {
      "text/plain": [
       "False"
      ]
     },
     "execution_count": 61,
     "metadata": {},
     "output_type": "execute_result"
    }
   ],
   "source": [
    "p.isupper()"
   ]
  },
  {
   "cell_type": "code",
   "execution_count": 62,
   "id": "3b41c00f",
   "metadata": {},
   "outputs": [
    {
     "data": {
      "text/plain": [
       "False"
      ]
     },
     "execution_count": 62,
     "metadata": {},
     "output_type": "execute_result"
    }
   ],
   "source": [
    "p.islower()"
   ]
  },
  {
   "cell_type": "code",
   "execution_count": 63,
   "id": "e34f86e0",
   "metadata": {},
   "outputs": [],
   "source": [
    "p='Pravat1234'"
   ]
  },
  {
   "cell_type": "code",
   "execution_count": 64,
   "id": "8b79e10e",
   "metadata": {},
   "outputs": [
    {
     "data": {
      "text/plain": [
       "True"
      ]
     },
     "execution_count": 64,
     "metadata": {},
     "output_type": "execute_result"
    }
   ],
   "source": [
    "p.isalnum()"
   ]
  },
  {
   "cell_type": "code",
   "execution_count": 65,
   "id": "c3bf0d08",
   "metadata": {},
   "outputs": [
    {
     "data": {
      "text/plain": [
       "False"
      ]
     },
     "execution_count": 65,
     "metadata": {},
     "output_type": "execute_result"
    }
   ],
   "source": [
    "p.isalpha()"
   ]
  },
  {
   "cell_type": "code",
   "execution_count": 66,
   "id": "a3297608",
   "metadata": {},
   "outputs": [
    {
     "data": {
      "text/plain": [
       "False"
      ]
     },
     "execution_count": 66,
     "metadata": {},
     "output_type": "execute_result"
    }
   ],
   "source": [
    "p.isdigit()"
   ]
  },
  {
   "cell_type": "code",
   "execution_count": 67,
   "id": "de5cd39f",
   "metadata": {},
   "outputs": [],
   "source": [
    "o='12345667'"
   ]
  },
  {
   "cell_type": "code",
   "execution_count": 69,
   "id": "f5b92e98",
   "metadata": {},
   "outputs": [
    {
     "data": {
      "text/plain": [
       "True"
      ]
     },
     "execution_count": 69,
     "metadata": {},
     "output_type": "execute_result"
    }
   ],
   "source": [
    "o.isnumeric()"
   ]
  },
  {
   "cell_type": "code",
   "execution_count": 70,
   "id": "63a035bc",
   "metadata": {},
   "outputs": [
    {
     "data": {
      "text/plain": [
       "True"
      ]
     },
     "execution_count": 70,
     "metadata": {},
     "output_type": "execute_result"
    }
   ],
   "source": [
    "o.isdigit()"
   ]
  },
  {
   "cell_type": "code",
   "execution_count": 74,
   "id": "5a934f12",
   "metadata": {},
   "outputs": [
    {
     "data": {
      "text/plain": [
       "False"
      ]
     },
     "execution_count": 74,
     "metadata": {},
     "output_type": "execute_result"
    }
   ],
   "source": [
    "o.startswith('2')"
   ]
  },
  {
   "cell_type": "code",
   "execution_count": null,
   "id": "71566837",
   "metadata": {},
   "outputs": [],
   "source": []
  }
 ],
 "metadata": {
  "kernelspec": {
   "display_name": "Python 3",
   "language": "python",
   "name": "python3"
  },
  "language_info": {
   "codemirror_mode": {
    "name": "ipython",
    "version": 3
   },
   "file_extension": ".py",
   "mimetype": "text/x-python",
   "name": "python",
   "nbconvert_exporter": "python",
   "pygments_lexer": "ipython3",
   "version": "3.8.8"
  }
 },
 "nbformat": 4,
 "nbformat_minor": 5
}
