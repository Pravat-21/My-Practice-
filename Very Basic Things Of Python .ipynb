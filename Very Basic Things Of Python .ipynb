{
 "cells": [
  {
   "cell_type": "markdown",
   "id": "3f5242bd",
   "metadata": {},
   "source": [
    "# Practice of very basic python"
   ]
  },
  {
   "cell_type": "markdown",
   "id": "92673d86",
   "metadata": {},
   "source": [
    "# Variable :"
   ]
  },
  {
   "cell_type": "code",
   "execution_count": 28,
   "id": "5ded1537",
   "metadata": {},
   "outputs": [
    {
     "data": {
      "text/plain": [
       "(int, float, str, bool)"
      ]
     },
     "execution_count": 28,
     "metadata": {},
     "output_type": "execute_result"
    }
   ],
   "source": [
    "                   # Checking the type of the variable :\n",
    "a=12\n",
    "b=12.33\n",
    "c=\"I am Pravat Patra\"\n",
    "d=True\n",
    "type(a),type(b),type(c),type(d)\n"
   ]
  },
  {
   "cell_type": "code",
   "execution_count": 29,
   "id": "626d6efb",
   "metadata": {},
   "outputs": [
    {
     "data": {
      "text/plain": [
       "('Pravat', False, False)"
      ]
     },
     "execution_count": 29,
     "metadata": {},
     "output_type": "execute_result"
    }
   ],
   "source": [
    "# List:\n",
    "h=[12,12.33,\"Pravat\",False,44,1.33]\n",
    "h[2],h[3],h[-3]"
   ]
  },
  {
   "cell_type": "code",
   "execution_count": 30,
   "id": "4d24cfb2",
   "metadata": {},
   "outputs": [
    {
     "data": {
      "text/plain": [
       "tuple"
      ]
     },
     "execution_count": 30,
     "metadata": {},
     "output_type": "execute_result"
    }
   ],
   "source": [
    "                             # tuple:\n",
    "t=(12,22,True,\"Pravat\")\n",
    "type(t)"
   ]
  },
  {
   "cell_type": "code",
   "execution_count": 31,
   "id": "e42daf63",
   "metadata": {},
   "outputs": [
    {
     "data": {
      "text/plain": [
       "22"
      ]
     },
     "execution_count": 31,
     "metadata": {},
     "output_type": "execute_result"
    }
   ],
   "source": [
    "t[1]"
   ]
  },
  {
   "cell_type": "code",
   "execution_count": 32,
   "id": "ed4240fe",
   "metadata": {},
   "outputs": [
    {
     "data": {
      "text/plain": [
       "dict"
      ]
     },
     "execution_count": 32,
     "metadata": {},
     "output_type": "execute_result"
    }
   ],
   "source": [
    "u={'a':'Pravat','b':112.22,'c':111,4:True}\n",
    "type(u)"
   ]
  },
  {
   "cell_type": "code",
   "execution_count": 33,
   "id": "6b732386",
   "metadata": {},
   "outputs": [
    {
     "data": {
      "text/plain": [
       "bool"
      ]
     },
     "execution_count": 33,
     "metadata": {},
     "output_type": "execute_result"
    }
   ],
   "source": [
    "type(u[4])"
   ]
  },
  {
   "cell_type": "code",
   "execution_count": 34,
   "id": "c9ed8f22",
   "metadata": {},
   "outputs": [
    {
     "data": {
      "text/plain": [
       "111"
      ]
     },
     "execution_count": 34,
     "metadata": {},
     "output_type": "execute_result"
    }
   ],
   "source": [
    "u['c']"
   ]
  },
  {
   "cell_type": "code",
   "execution_count": 38,
   "id": "333df836",
   "metadata": {},
   "outputs": [
    {
     "data": {
      "text/plain": [
       "complex"
      ]
     },
     "execution_count": 38,
     "metadata": {},
     "output_type": "execute_result"
    }
   ],
   "source": [
    "                    # Complex Number:\n",
    "n=2+4j\n",
    "p=23+33j\n",
    "type(n)"
   ]
  },
  {
   "cell_type": "code",
   "execution_count": 39,
   "id": "7e661208",
   "metadata": {},
   "outputs": [
    {
     "data": {
      "text/plain": [
       "(4.0, 2.0)"
      ]
     },
     "execution_count": 39,
     "metadata": {},
     "output_type": "execute_result"
    }
   ],
   "source": [
    "n.imag,n.real"
   ]
  },
  {
   "cell_type": "code",
   "execution_count": 40,
   "id": "5d331811",
   "metadata": {},
   "outputs": [
    {
     "data": {
      "text/plain": [
       "(25+37j)"
      ]
     },
     "execution_count": 40,
     "metadata": {},
     "output_type": "execute_result"
    }
   ],
   "source": [
    "                 # Basic calculation with Complex numner :\n",
    "n+p"
   ]
  },
  {
   "cell_type": "code",
   "execution_count": 43,
   "id": "33cad42d",
   "metadata": {},
   "outputs": [
    {
     "data": {
      "text/plain": [
       "((-12+16j), (-86+158j), (-86+158j))"
      ]
     },
     "execution_count": 43,
     "metadata": {},
     "output_type": "execute_result"
    }
   ],
   "source": [
    "n*n,n*p,p*n"
   ]
  },
  {
   "cell_type": "code",
   "execution_count": 45,
   "id": "08f88ba3",
   "metadata": {},
   "outputs": [
    {
     "data": {
      "text/plain": [
       "0j"
      ]
     },
     "execution_count": 45,
     "metadata": {},
     "output_type": "execute_result"
    }
   ],
   "source": [
    "n-n"
   ]
  },
  {
   "cell_type": "code",
   "execution_count": 46,
   "id": "55e14e93",
   "metadata": {},
   "outputs": [
    {
     "data": {
      "text/plain": [
       "'I am Pravat Patra'"
      ]
     },
     "execution_count": 46,
     "metadata": {},
     "output_type": "execute_result"
    }
   ],
   "source": [
    "c"
   ]
  },
  {
   "cell_type": "code",
   "execution_count": null,
   "id": "942ecea9",
   "metadata": {},
   "outputs": [],
   "source": []
  }
 ],
 "metadata": {
  "kernelspec": {
   "display_name": "Python 3",
   "language": "python",
   "name": "python3"
  },
  "language_info": {
   "codemirror_mode": {
    "name": "ipython",
    "version": 3
   },
   "file_extension": ".py",
   "mimetype": "text/x-python",
   "name": "python",
   "nbconvert_exporter": "python",
   "pygments_lexer": "ipython3",
   "version": "3.8.8"
  }
 },
 "nbformat": 4,
 "nbformat_minor": 5
}
